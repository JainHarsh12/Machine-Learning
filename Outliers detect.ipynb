{
 "cells": [
  {
   "cell_type": "code",
   "execution_count": 2,
   "id": "80f85373-6f89-4849-a95a-8ad660a8b224",
   "metadata": {},
   "outputs": [],
   "source": [
    "import numpy as np\n",
    "import pandas as pd\n",
    "import matplotlib.pyplot as plt\n",
    "%matplotlib inline"
   ]
  },
  {
   "cell_type": "code",
   "execution_count": 32,
   "id": "3cd69740-aed9-49e1-8357-47c80f4d2fd4",
   "metadata": {},
   "outputs": [],
   "source": [
    "dataset = [10,20,35,40,560,50,60,70,80,90,900]"
   ]
  },
  {
   "cell_type": "code",
   "execution_count": 33,
   "id": "4ed3cfe0-ab35-44fc-afed-537ac4991096",
   "metadata": {},
   "outputs": [
    {
     "data": {
      "text/plain": [
       "(array([9., 0., 0., 0., 0., 0., 1., 0., 0., 1.]),\n",
       " array([ 10.,  99., 188., 277., 366., 455., 544., 633., 722., 811., 900.]),\n",
       " <BarContainer object of 10 artists>)"
      ]
     },
     "execution_count": 33,
     "metadata": {},
     "output_type": "execute_result"
    },
    {
     "data": {
      "image/png": "[encoded data removed]",
      "text/plain": [
       "<Figure size 640x480 with 1 Axes>"
      ]
     },
     "metadata": {},
     "output_type": "display_data"
    }
   ],
   "source": [
    "plt.hist(dataset)"
   ]
  },
  {
   "cell_type": "code",
   "execution_count": 34,
   "id": "5e2bf99c-7a15-4394-9bc9-2c910d2bd227",
   "metadata": {},
   "outputs": [],
   "source": [
    "#Z Score\n",
    "\n",
    "\n",
    "def detect_outliers(data):\n",
    "    outliers = []  # Declare inside the function\n",
    "    threshold = 1  # 3rd standard deviation threshold\n",
    "    mean = np.mean(data)\n",
    "    std = np.std(data)\n",
    "\n",
    "    for i in data:\n",
    "        z_score = (i - mean) / std\n",
    "        if np.abs(z_score) > threshold:\n",
    "            outliers.append(i)\n",
    "\n",
    "    return outliers\n"
   ]
  },
  {
   "cell_type": "code",
   "execution_count": 35,
   "id": "71dc4924-2e93-490e-b903-1e34af271a5d",
   "metadata": {},
   "outputs": [],
   "source": [
    "outliers = detect_outliers(dataset)"
   ]
  },
  {
   "cell_type": "code",
   "execution_count": 36,
   "id": "ac614b71-191b-4ad9-ba5a-664e3aed0c92",
   "metadata": {},
   "outputs": [
    {
     "name": "stdout",
     "output_type": "stream",
     "text": [
      "Outliers in the dataset: [560, 900]\n"
     ]
    }
   ],
   "source": [
    "print(\"Outliers in the dataset:\", outliers)"
   ]
  },
  {
   "cell_type": "code",
   "execution_count": 37,
   "id": "5bacd317-2dd2-4969-9e44-033bfa233e00",
   "metadata": {},
   "outputs": [],
   "source": [
    "# IQR\n",
    "# Sort the data\n",
    "# Calculate Q1(25%) & Q3(75%)\n",
    "# IQR (Q3 - Q1)\n",
    "#Find the lower fence (q1 - 1.5(iqr))\n",
    "#find the higher fence(q3 +1.5(iqr))"
   ]
  },
  {
   "cell_type": "code",
   "execution_count": 38,
   "id": "6c5d6049-3d0d-4493-ac4e-f3970bfd9eca",
   "metadata": {},
   "outputs": [],
   "source": [
    "dataset = sorted(dataset)"
   ]
  },
  {
   "cell_type": "code",
   "execution_count": 39,
   "id": "dd5be3b0-5666-45de-a220-f0520b98875b",
   "metadata": {},
   "outputs": [
    {
     "data": {
      "text/plain": [
       "[10, 20, 35, 40, 50, 60, 70, 80, 90, 560, 900]"
      ]
     },
     "execution_count": 39,
     "metadata": {},
     "output_type": "execute_result"
    }
   ],
   "source": [
    "dataset\n"
   ]
  },
  {
   "cell_type": "code",
   "execution_count": 40,
   "id": "628c8706-9b4b-400f-8426-d7ce6d4a7437",
   "metadata": {},
   "outputs": [
    {
     "name": "stdout",
     "output_type": "stream",
     "text": [
      "37.5 85.0\n"
     ]
    }
   ],
   "source": [
    "q1,q3 = np.percentile(dataset,[25,75])\n",
    "print(q1,q3)"
   ]
  },
  {
   "cell_type": "code",
   "execution_count": 41,
   "id": "aeb03c71-e7f3-4212-b496-a3c5adeffb9c",
   "metadata": {},
   "outputs": [
    {
     "name": "stdout",
     "output_type": "stream",
     "text": [
      "47.5\n"
     ]
    }
   ],
   "source": [
    "iqr = q3-q1\n",
    "print(iqr)"
   ]
  },
  {
   "cell_type": "code",
   "execution_count": 44,
   "id": "6b4c4b6e-e955-4087-bb41-a67feb2d1608",
   "metadata": {},
   "outputs": [
    {
     "name": "stdout",
     "output_type": "stream",
     "text": [
      "-33.75 156.25\n"
     ]
    }
   ],
   "source": [
    "lowerfence = q1 - (1.5*iqr)\n",
    "higherfence = q3 +(1.5*iqr)\n",
    "print(lowerfence,higherfence)"
   ]
  },
  {
   "cell_type": "code",
   "execution_count": 49,
   "id": "20adc9dd-786b-4a43-824d-c689da9d67af",
   "metadata": {},
   "outputs": [
    {
     "name": "stdout",
     "output_type": "stream",
     "text": [
      "[560, 900]\n"
     ]
    }
   ],
   "source": [
    "outliers = []  \n",
    "\n",
    "for i in dataset:\n",
    "    if i <= lowerfence or i >= higherfence:  \n",
    "        outliers.append(i)\n",
    "    else:\n",
    "        pass\n",
    "\n",
    "\n",
    "print(outliers)\n"
   ]
  },
  {
   "cell_type": "code",
   "execution_count": 50,
   "id": "d434dc71-23d8-4813-8d44-4614e31f273b",
   "metadata": {},
   "outputs": [],
   "source": [
    "import seaborn as sns"
   ]
  },
  {
   "cell_type": "code",
   "execution_count": 51,
   "id": "85c25dff-e3bc-482e-9be0-28626e56c390",
   "metadata": {},
   "outputs": [
    {
     "data": {
      "text/plain": [
       "<Axes: >"
      ]
     },
     "execution_count": 51,
     "metadata": {},
     "output_type": "execute_result"
    },
    {
     "data": {
      "image/png": "[encoded data removed]",
      "text/plain": [
       "<Figure size 640x480 with 1 Axes>"
      ]
     },
     "metadata": {},
     "output_type": "display_data"
    }
   ],
   "source": [
    "sns.boxplot(dataset)"
   ]
  },
  {
   "cell_type": "code",
   "execution_count": null,
   "id": "b20e6ab2-3ee9-4d81-99ca-76ce5be1cade",
   "metadata": {},
   "outputs": [],
   "source": []
  }
 ],
 "metadata": {
  "kernelspec": {
   "display_name": "Python 3 (ipykernel)",
   "language": "python",
   "name": "python3"
  },
  "language_info": {
   "codemirror_mode": {
    "name": "ipython",
    "version": 3
   },
   "file_extension": ".py",
   "mimetype": "text/x-python",
   "name": "python",
   "nbconvert_exporter": "python",
   "pygments_lexer": "ipython3",
   "version": "3.12.3"
  }
 },
 "nbformat": 4,
 "nbformat_minor": 5
}
